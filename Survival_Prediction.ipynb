{
 "cells": [
  {
   "cell_type": "code",
   "execution_count": 1,
   "id": "23a8988a",
   "metadata": {},
   "outputs": [],
   "source": [
    "import numpy as np\n",
    "import tensorflow as tf\n",
    "from ipynb.fs.full.parse import Crawler\n",
    "import sys\n",
    "import numpy as np\n",
    "import pandas as pd\n",
    "import warnings\n",
    "warnings.filterwarnings(\"ignore\", category=UserWarning)\n",
    "\n",
    "TEST_SIZE = 231\n",
    "FEATURES = 24\n",
    "OUTPUTS = 1\n",
    "\n",
    "if __name__ == \"__main__\":\n",
    "    n_input = 24 # MNIST data input (img shape: 28*28)\n",
    "    n_treatments = 1 # MNIST total classes (0-9 digits)\n",
    "    tf.compat.v1.disable_eager_execution()\n",
    "    x = tf.compat.v1.placeholder(\"float\", [None, n_input])\n",
    "    y = tf.compat.v1.placeholder(\"float\", [None, n_treatments])"
   ]
  },
  {
   "cell_type": "code",
   "execution_count": 2,
   "id": "34bf399c",
   "metadata": {},
   "outputs": [],
   "source": [
    "    objCrawler = Crawler(\"FinalCancer_Data.csv\")\n",
    "    data = objCrawler.p_input()"
   ]
  },
  {
   "cell_type": "code",
   "execution_count": 3,
   "id": "39ea91eb",
   "metadata": {},
   "outputs": [],
   "source": [
    "    max0 = np.amax(data[:, np.r_[0]])\n",
    "    max1 = np.amax(data[:, np.r_[1]])\n",
    "    max5 = np.amax(data[:, np.r_[5]])\n",
    "    max6 = np.amax(data[:, np.r_[6]])\n",
    "    max7 = np.amax(data[:, np.r_[7]])\n",
    "    max8 = np.amax(data[:, np.r_[8]])\n",
    "    max9 = np.amax(data[:, np.r_[9]])\n",
    "    max10 = np.amax(data[:, np.r_[10]])\n",
    "    max11 = np.amax(data[:, np.r_[11]])\n",
    "\n",
    "    for dataElements in data:\n",
    "        dataElements[0] = dataElements[0]/max0\n",
    "        dataElements[1] = dataElements[1]/max1\n",
    "        dataElements[5] = dataElements[5]/max5\n",
    "        dataElements[6] = dataElements[6]/max6\n",
    "        dataElements[7] = dataElements[7]/max7\n",
    "        dataElements[8] = dataElements[8]/max8\n",
    "        dataElements[9] = dataElements[9]/max9\n",
    "        dataElements[10] = dataElements[10]/max10\n",
    "        dataElements[11] = dataElements[11]/max11"
   ]
  },
  {
   "cell_type": "code",
   "execution_count": 4,
   "id": "fd6257f3",
   "metadata": {},
   "outputs": [],
   "source": [
    "    testInput = data[:TEST_SIZE,:FEATURES]\n",
    "    testOutput = data[:TEST_SIZE, -OUTPUTS:]\n",
    "\n",
    "    trainInput = data[TEST_SIZE:, :FEATURES]\n",
    "    trainOutput = data[TEST_SIZE:, -OUTPUTS:]\n",
    "\n",
    "    train_size = len(trainInput)"
   ]
  },
  {
   "cell_type": "code",
   "execution_count": 5,
   "id": "c3a4c5de",
   "metadata": {},
   "outputs": [
    {
     "name": "stdout",
     "output_type": "stream",
     "text": [
      "Train on 1587 samples\n",
      "Epoch 1/100\n",
      "1587/1587 [==============================] - 2s 1ms/sample - loss: 0.6359 - accuracy: 0.6723\n",
      "Epoch 2/100\n",
      "1587/1587 [==============================] - 2s 950us/sample - loss: 0.6198 - accuracy: 0.6736\n",
      "Epoch 3/100\n",
      "1587/1587 [==============================] - 2s 1ms/sample - loss: 0.6098 - accuracy: 0.6736\n",
      "Epoch 4/100\n",
      "1587/1587 [==============================] - 2s 1ms/sample - loss: 0.6111 - accuracy: 0.6736\n",
      "Epoch 5/100\n",
      "1587/1587 [==============================] - 2s 995us/sample - loss: 0.6100 - accuracy: 0.6736\n",
      "Epoch 6/100\n",
      "1587/1587 [==============================] - 2s 983us/sample - loss: 0.6084 - accuracy: 0.6774\n",
      "Epoch 7/100\n",
      "1587/1587 [==============================] - 2s 951us/sample - loss: 0.6054 - accuracy: 0.6767\n",
      "Epoch 8/100\n",
      "1587/1587 [==============================] - 2s 975us/sample - loss: 0.6027 - accuracy: 0.6887\n",
      "Epoch 9/100\n",
      "1587/1587 [==============================] - 2s 981us/sample - loss: 0.6042 - accuracy: 0.6849\n",
      "Epoch 10/100\n",
      "1587/1587 [==============================] - 2s 967us/sample - loss: 0.5966 - accuracy: 0.6931\n",
      "Epoch 11/100\n",
      "1587/1587 [==============================] - 2s 998us/sample - loss: 0.5985 - accuracy: 0.6881\n",
      "Epoch 12/100\n",
      "1587/1587 [==============================] - 2s 1ms/sample - loss: 0.5989 - accuracy: 0.6900\n",
      "Epoch 13/100\n",
      "1587/1587 [==============================] - 2s 973us/sample - loss: 0.5912 - accuracy: 0.6938\n",
      "Epoch 14/100\n",
      "1587/1587 [==============================] - 1s 902us/sample - loss: 0.5992 - accuracy: 0.6849\n",
      "Epoch 15/100\n",
      "1587/1587 [==============================] - 2s 951us/sample - loss: 0.5953 - accuracy: 0.6881\n",
      "Epoch 16/100\n",
      "1587/1587 [==============================] - 2s 952us/sample - loss: 0.5923 - accuracy: 0.7007\n",
      "Epoch 17/100\n",
      "1587/1587 [==============================] - 2s 986us/sample - loss: 0.5903 - accuracy: 0.7001\n",
      "Epoch 18/100\n",
      "1587/1587 [==============================] - 2s 965us/sample - loss: 0.5901 - accuracy: 0.6925\n",
      "Epoch 19/100\n",
      "1587/1587 [==============================] - 2s 993us/sample - loss: 0.5879 - accuracy: 0.6957\n",
      "Epoch 20/100\n",
      "1587/1587 [==============================] - 2s 952us/sample - loss: 0.5875 - accuracy: 0.7007\n",
      "Epoch 21/100\n",
      "1587/1587 [==============================] - 2s 1ms/sample - loss: 0.5893 - accuracy: 0.7051\n",
      "Epoch 22/100\n",
      "1587/1587 [==============================] - 2s 1ms/sample - loss: 0.5869 - accuracy: 0.7038\n",
      "Epoch 23/100\n",
      "1587/1587 [==============================] - 2s 1ms/sample - loss: 0.5841 - accuracy: 0.7038\n",
      "Epoch 24/100\n",
      "1587/1587 [==============================] - 2s 1ms/sample - loss: 0.5848 - accuracy: 0.6950\n",
      "Epoch 25/100\n",
      "1587/1587 [==============================] - 2s 998us/sample - loss: 0.5869 - accuracy: 0.7051\n",
      "Epoch 26/100\n",
      "1587/1587 [==============================] - 2s 1ms/sample - loss: 0.5839 - accuracy: 0.6919\n",
      "Epoch 27/100\n",
      "1587/1587 [==============================] - 2s 997us/sample - loss: 0.5848 - accuracy: 0.6938\n",
      "Epoch 28/100\n",
      "1587/1587 [==============================] - 2s 1ms/sample - loss: 0.5870 - accuracy: 0.6957\n",
      "Epoch 29/100\n",
      "1587/1587 [==============================] - 2s 1ms/sample - loss: 0.5830 - accuracy: 0.7064\n",
      "Epoch 30/100\n",
      "1587/1587 [==============================] - 2s 1ms/sample - loss: 0.5803 - accuracy: 0.7001\n",
      "Epoch 31/100\n",
      "1587/1587 [==============================] - 2s 1ms/sample - loss: 0.5798 - accuracy: 0.7083\n",
      "Epoch 32/100\n",
      "1587/1587 [==============================] - 2s 1ms/sample - loss: 0.5841 - accuracy: 0.7026\n",
      "Epoch 33/100\n",
      "1587/1587 [==============================] - 2s 1ms/sample - loss: 0.5777 - accuracy: 0.7051\n",
      "Epoch 34/100\n",
      "1587/1587 [==============================] - 2s 1ms/sample - loss: 0.5789 - accuracy: 0.7038\n",
      "Epoch 35/100\n",
      "1587/1587 [==============================] - 2s 993us/sample - loss: 0.5822 - accuracy: 0.7076\n",
      "Epoch 36/100\n",
      "1587/1587 [==============================] - 2s 1ms/sample - loss: 0.5753 - accuracy: 0.7076\n",
      "Epoch 37/100\n",
      "1587/1587 [==============================] - 2s 1ms/sample - loss: 0.5743 - accuracy: 0.7064\n",
      "Epoch 38/100\n",
      "1587/1587 [==============================] - 2s 1ms/sample - loss: 0.5756 - accuracy: 0.7127\n",
      "Epoch 39/100\n",
      "1587/1587 [==============================] - 2s 1ms/sample - loss: 0.5787 - accuracy: 0.7032\n",
      "Epoch 40/100\n",
      "1587/1587 [==============================] - 2s 986us/sample - loss: 0.5747 - accuracy: 0.7133\n",
      "Epoch 41/100\n",
      "1587/1587 [==============================] - 2s 1ms/sample - loss: 0.5720 - accuracy: 0.7133\n",
      "Epoch 42/100\n",
      "1587/1587 [==============================] - 2s 1ms/sample - loss: 0.5786 - accuracy: 0.7108\n",
      "Epoch 43/100\n",
      "1587/1587 [==============================] - 2s 967us/sample - loss: 0.5726 - accuracy: 0.7101\n",
      "Epoch 44/100\n",
      "1587/1587 [==============================] - 2s 953us/sample - loss: 0.5690 - accuracy: 0.7152\n",
      "Epoch 45/100\n",
      "1587/1587 [==============================] - 2s 978us/sample - loss: 0.5700 - accuracy: 0.7076\n",
      "Epoch 46/100\n",
      "1587/1587 [==============================] - 2s 971us/sample - loss: 0.5705 - accuracy: 0.7089\n",
      "Epoch 47/100\n",
      "1587/1587 [==============================] - 2s 986us/sample - loss: 0.5661 - accuracy: 0.7120\n",
      "Epoch 48/100\n",
      "1587/1587 [==============================] - 2s 1ms/sample - loss: 0.5688 - accuracy: 0.7101\n",
      "Epoch 49/100\n",
      "1587/1587 [==============================] - 2s 1ms/sample - loss: 0.5671 - accuracy: 0.7120\n",
      "Epoch 50/100\n",
      "1587/1587 [==============================] - 2s 1ms/sample - loss: 0.5669 - accuracy: 0.7114\n",
      "Epoch 51/100\n",
      "1587/1587 [==============================] - 2s 1ms/sample - loss: 0.5668 - accuracy: 0.7101\n",
      "Epoch 52/100\n",
      "1587/1587 [==============================] - 2s 976us/sample - loss: 0.5667 - accuracy: 0.7158\n",
      "Epoch 53/100\n",
      "1587/1587 [==============================] - 2s 1ms/sample - loss: 0.5636 - accuracy: 0.7133\n",
      "Epoch 54/100\n",
      "1587/1587 [==============================] - 2s 965us/sample - loss: 0.5612 - accuracy: 0.7177\n",
      "Epoch 55/100\n",
      "1587/1587 [==============================] - 2s 997us/sample - loss: 0.5598 - accuracy: 0.7209\n",
      "Epoch 56/100\n",
      "1587/1587 [==============================] - 2s 1ms/sample - loss: 0.5611 - accuracy: 0.7177\n",
      "Epoch 57/100\n",
      "1587/1587 [==============================] - 2s 999us/sample - loss: 0.5599 - accuracy: 0.7152\n",
      "Epoch 58/100\n",
      "1587/1587 [==============================] - 2s 1ms/sample - loss: 0.5602 - accuracy: 0.7146\n",
      "Epoch 59/100\n",
      "1587/1587 [==============================] - 2s 983us/sample - loss: 0.5600 - accuracy: 0.7234\n",
      "Epoch 60/100\n",
      "1587/1587 [==============================] - 2s 1ms/sample - loss: 0.5599 - accuracy: 0.7171\n",
      "Epoch 61/100\n",
      "1587/1587 [==============================] - 2s 1ms/sample - loss: 0.5620 - accuracy: 0.7164\n",
      "Epoch 62/100\n",
      "1587/1587 [==============================] - 2s 991us/sample - loss: 0.5506 - accuracy: 0.7215\n",
      "Epoch 63/100\n",
      "1587/1587 [==============================] - 2s 949us/sample - loss: 0.5527 - accuracy: 0.7265\n",
      "Epoch 64/100\n",
      "1587/1587 [==============================] - 2s 986us/sample - loss: 0.5472 - accuracy: 0.7284\n",
      "Epoch 65/100\n",
      "1587/1587 [==============================] - 1s 940us/sample - loss: 0.5481 - accuracy: 0.7297\n",
      "Epoch 66/100\n",
      "1587/1587 [==============================] - 1s 940us/sample - loss: 0.5487 - accuracy: 0.7246\n",
      "Epoch 67/100\n",
      "1587/1587 [==============================] - 2s 996us/sample - loss: 0.5471 - accuracy: 0.7272\n",
      "Epoch 68/100\n",
      "1587/1587 [==============================] - 2s 984us/sample - loss: 0.5454 - accuracy: 0.7202\n",
      "Epoch 69/100\n",
      "1587/1587 [==============================] - 2s 964us/sample - loss: 0.5461 - accuracy: 0.7278\n",
      "Epoch 70/100\n",
      "1587/1587 [==============================] - 2s 1ms/sample - loss: 0.5438 - accuracy: 0.7253\n",
      "Epoch 71/100\n",
      "1587/1587 [==============================] - 2s 1ms/sample - loss: 0.5475 - accuracy: 0.7253\n",
      "Epoch 72/100\n",
      "1587/1587 [==============================] - 2s 956us/sample - loss: 0.5400 - accuracy: 0.7328\n",
      "Epoch 73/100\n",
      "1587/1587 [==============================] - 2s 1ms/sample - loss: 0.5401 - accuracy: 0.7366\n",
      "Epoch 74/100\n",
      "1587/1587 [==============================] - 2s 975us/sample - loss: 0.5354 - accuracy: 0.7404\n",
      "Epoch 75/100\n",
      "1587/1587 [==============================] - 2s 1ms/sample - loss: 0.5481 - accuracy: 0.7215\n",
      "Epoch 76/100\n",
      "1587/1587 [==============================] - 2s 1ms/sample - loss: 0.5359 - accuracy: 0.7303\n",
      "Epoch 77/100\n"
     ]
    },
    {
     "name": "stdout",
     "output_type": "stream",
     "text": [
      "1587/1587 [==============================] - 2s 1ms/sample - loss: 0.5365 - accuracy: 0.7309\n",
      "Epoch 78/100\n",
      "1587/1587 [==============================] - 2s 1ms/sample - loss: 0.5335 - accuracy: 0.7410\n",
      "Epoch 79/100\n",
      "1587/1587 [==============================] - 2s 985us/sample - loss: 0.5358 - accuracy: 0.7360\n",
      "Epoch 80/100\n",
      "1587/1587 [==============================] - 2s 994us/sample - loss: 0.5354 - accuracy: 0.7379\n",
      "Epoch 81/100\n",
      "1587/1587 [==============================] - 2s 975us/sample - loss: 0.5323 - accuracy: 0.7347\n",
      "Epoch 82/100\n",
      "1587/1587 [==============================] - 2s 992us/sample - loss: 0.5554 - accuracy: 0.7234\n",
      "Epoch 83/100\n",
      "1587/1587 [==============================] - 2s 1ms/sample - loss: 0.5332 - accuracy: 0.7417\n",
      "Epoch 84/100\n",
      "1587/1587 [==============================] - 2s 1ms/sample - loss: 0.5295 - accuracy: 0.7379\n",
      "Epoch 85/100\n",
      "1587/1587 [==============================] - 2s 1ms/sample - loss: 0.5294 - accuracy: 0.7461\n",
      "Epoch 86/100\n",
      "1587/1587 [==============================] - 2s 1ms/sample - loss: 0.5333 - accuracy: 0.7259\n",
      "Epoch 87/100\n",
      "1587/1587 [==============================] - 2s 1ms/sample - loss: 0.5351 - accuracy: 0.7360\n",
      "Epoch 88/100\n",
      "1587/1587 [==============================] - 2s 1ms/sample - loss: 0.5321 - accuracy: 0.7265\n",
      "Epoch 89/100\n",
      "1587/1587 [==============================] - 2s 1ms/sample - loss: 0.5203 - accuracy: 0.7391\n",
      "Epoch 90/100\n",
      "1587/1587 [==============================] - 2s 1ms/sample - loss: 0.5272 - accuracy: 0.7372\n",
      "Epoch 91/100\n",
      "1587/1587 [==============================] - 2s 1ms/sample - loss: 0.5173 - accuracy: 0.7524\n",
      "Epoch 92/100\n",
      "1587/1587 [==============================] - 2s 1ms/sample - loss: 0.5200 - accuracy: 0.7473\n",
      "Epoch 93/100\n",
      "1587/1587 [==============================] - 2s 1ms/sample - loss: 0.5217 - accuracy: 0.7398\n",
      "Epoch 94/100\n",
      "1587/1587 [==============================] - 2s 1ms/sample - loss: 0.5210 - accuracy: 0.7391\n",
      "Epoch 95/100\n",
      "1587/1587 [==============================] - 2s 1ms/sample - loss: 0.5165 - accuracy: 0.7505\n",
      "Epoch 96/100\n",
      "1587/1587 [==============================] - 2s 1ms/sample - loss: 0.5177 - accuracy: 0.7404\n",
      "Epoch 97/100\n",
      "1587/1587 [==============================] - 2s 1ms/sample - loss: 0.5200 - accuracy: 0.7435\n",
      "Epoch 98/100\n",
      "1587/1587 [==============================] - 2s 1ms/sample - loss: 0.5113 - accuracy: 0.7480\n",
      "Epoch 99/100\n",
      "1587/1587 [==============================] - 2s 1ms/sample - loss: 0.5187 - accuracy: 0.7385\n",
      "Epoch 100/100\n",
      "1587/1587 [==============================] - 2s 1ms/sample - loss: 0.5147 - accuracy: 0.7498\n"
     ]
    },
    {
     "data": {
      "text/plain": [
       "<keras.callbacks.History at 0x29137269a60>"
      ]
     },
     "execution_count": 5,
     "metadata": {},
     "output_type": "execute_result"
    }
   ],
   "source": [
    "    import keras\n",
    "    from keras.models import Sequential\n",
    "    from keras.layers import Dense\n",
    "\n",
    "    classifier = Sequential()\n",
    "    classifier.add(Dense(1024, activation='relu', kernel_initializer='uniform',input_dim=24))\n",
    "    classifier.add(Dense(256, activation='relu', kernel_initializer='uniform'))\n",
    "    classifier.add(Dense(24, activation='relu', kernel_initializer='uniform'))\n",
    "    classifier.add(Dense(1, activation='sigmoid', kernel_initializer='uniform'))\n",
    "    classifier.compile(optimizer = 'adam', loss = 'binary_crossentropy', metrics = ['accuracy'])\n",
    "    classifier.fit(trainInput, trainOutput, batch_size = 10, epochs = 100,verbose=1 )"
   ]
  },
  {
   "cell_type": "code",
   "execution_count": 6,
   "id": "135ce34e",
   "metadata": {},
   "outputs": [],
   "source": [
    "y_pred = classifier.predict(testInput)\n",
    "y_pred = (y_pred > 0.40)"
   ]
  },
  {
   "cell_type": "code",
   "execution_count": 7,
   "id": "309d3dd5",
   "metadata": {},
   "outputs": [
    {
     "data": {
      "image/png": "[encoded data removed]",
      "text/plain": [
       "<Figure size 576x360 with 2 Axes>"
      ]
     },
     "metadata": {
      "needs_background": "light"
     },
     "output_type": "display_data"
    }
   ],
   "source": [
    "from sklearn.metrics import confusion_matrix, accuracy_score\n",
    "import seaborn as sns\n",
    "import matplotlib.pyplot as plt\n",
    "confusion_matrix_A = confusion_matrix(testOutput, y_pred)\n",
    "group_names = ['True Neg','False Pos','False Neg','True Pos']\n",
    "group_counts1 = [\"{0:0.0f}\".format(value) for value in\n",
    "                confusion_matrix_A.flatten()]\n",
    "group_percentages1 = [\"{0:.2%}\".format(value) for value in\n",
    "                     confusion_matrix_A.flatten()/np.sum(confusion_matrix_A)]\n",
    "labels1 = [f\"{v1}\\n{v2}\\n{v3}\" for v1, v2, v3 in\n",
    "          zip(group_names,group_counts1,group_percentages1)]\n",
    "labels1 = np.asarray(labels1).reshape(2,2)\n",
    "plt.figure(figsize=(8,5))\n",
    "ax = sns.heatmap(confusion_matrix_A, annot=labels1, fmt='', cmap='BuPu')"
   ]
  },
  {
   "cell_type": "code",
   "execution_count": 8,
   "id": "89bec4a2",
   "metadata": {},
   "outputs": [
    {
     "data": {
      "text/plain": [
       "0.6623376623376623"
      ]
     },
     "execution_count": 8,
     "metadata": {},
     "output_type": "execute_result"
    }
   ],
   "source": [
    "accuracy_score(testOutput, y_pred)"
   ]
  },
  {
   "cell_type": "code",
   "execution_count": 9,
   "id": "8d0afdc4",
   "metadata": {},
   "outputs": [
    {
     "name": "stdout",
     "output_type": "stream",
     "text": [
      "predicted chance of survival is 89.93182 %\n"
     ]
    }
   ],
   "source": [
    "y1 = classifier.predict(testInput[10:11])\n",
    "y1 = y1*100\n",
    "print(\"predicted chance of survival is\",y1[0][0],\"%\")"
   ]
  },
  {
   "cell_type": "code",
   "execution_count": null,
   "id": "24cf76b4",
   "metadata": {},
   "outputs": [],
   "source": []
  }
 ],
 "metadata": {
  "kernelspec": {
   "display_name": "Python 3 (ipykernel)",
   "language": "python",
   "name": "python3"
  },
  "language_info": {
   "codemirror_mode": {
    "name": "ipython",
    "version": 3
   },
   "file_extension": ".py",
   "mimetype": "text/x-python",
   "name": "python",
   "nbconvert_exporter": "python",
   "pygments_lexer": "ipython3",
   "version": "3.9.13"
  }
 },
 "nbformat": 4,
 "nbformat_minor": 5
}
